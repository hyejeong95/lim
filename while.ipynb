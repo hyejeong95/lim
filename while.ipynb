{
 "cells": [
  {
   "cell_type": "markdown",
   "metadata": {},
   "source": [
    "### 리스트 중에서 홀수에만 2를 곱하여 저장하는 다음과 같은 코드가 있다. \n",
    "numbers = [1, 2, 3, 4, 5]\n",
    "result=[]\n",
    "for n in numbers:\n",
    "    if n%2 !=0:\n",
    "        result.append(n*2)\n",
    "print(result)    \n",
    "\n",
    "### list comprehension을 사용하여 표현하자\n",
    "result=[n*2 for n in numbers  if n%2 !=0]"
   ]
  },
  {
   "cell_type": "markdown",
   "metadata": {},
   "source": [
    "###  '*'를 만들어서 표현해보아라\n",
    "-----------------------------------\n",
    "#### *\n",
    "#### ** \n",
    "#### ***\n",
    "#### ****\n",
    "#### *****\n",
    "-------------------------------------------\n",
    "a=0\n",
    "while True:\n",
    "    a+=1\n",
    "    if a>5: break\n",
    "    print(a*'*')\n",
    "\n",
    "#while True 사용하는 이유: while문의 조건문이 True이므로 항상 참이 된다. 따라서 while문 안에 있는 문장들은 무한하게 수행될 것이다.\n",
    "**while true** 무한루프"
   ]
  },
  {
   "cell_type": "code",
   "execution_count": null,
   "metadata": {},
   "outputs": [],
   "source": []
  },
  {
   "cell_type": "code",
   "execution_count": null,
   "metadata": {},
   "outputs": [],
   "source": []
  },
  {
   "cell_type": "code",
   "execution_count": null,
   "metadata": {},
   "outputs": [],
   "source": []
  },
  {
   "cell_type": "code",
   "execution_count": null,
   "metadata": {},
   "outputs": [],
   "source": []
  },
  {
   "cell_type": "code",
   "execution_count": null,
   "metadata": {},
   "outputs": [],
   "source": []
  }
 ],
 "metadata": {
  "kernelspec": {
   "display_name": "Python 3",
   "language": "python",
   "name": "python3"
  },
  "language_info": {
   "codemirror_mode": {
    "name": "ipython",
    "version": 3
   },
   "file_extension": ".py",
   "mimetype": "text/x-python",
   "name": "python",
   "nbconvert_exporter": "python",
   "pygments_lexer": "ipython3",
   "version": "3.7.4"
  }
 },
 "nbformat": 4,
 "nbformat_minor": 2
}
