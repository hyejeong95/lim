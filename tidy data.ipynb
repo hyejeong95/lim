{
 "cells": [
  {
   "cell_type": "markdown",
   "metadata": {},
   "source": [
    "## tidy data (깔끔한 데이터)\n",
    "#### 정의 : \"밑바닥 부터 시작할 필요 없는 데이터\"\n",
    "#### 깔끔한 데이터(Tidy data)의 특징 \n",
    "- 각 변수는 개별의 열(column)으로 존재한다.\n",
    "- 각 관측치는 행(row)를 구성한다.\n",
    "- 각 표는 단 하나의 관측기준에 의해서 조직된 데이터를 저장한다.\n",
    "- 만약 여러개의 표가 존재한다면, 적어도 하나이상의 열(column)이 공유되어야 한다.<br>\n",
    "-- 변수(Variable): 예를 들면 키, 몸무게, 성별.<br> \n",
    "-- 값(Value): 예를 들자면 152 cm, 80 kg, 여성 .<br>\n",
    "-- 관측치(Observation): 값을 측정한 단위, 여기서는 각각의 사람 .<br>\n"
   ]
  },
  {
   "cell_type": "markdown",
   "metadata": {},
   "source": [
    "EXAMPLE<br>\n",
    "bind_rows: 행별로 데이터들을 묶는 것을 말한다.  \n",
    "데이타프레임 인덱싱은 [[]] 으로 해주는 것을 꼭 기억하자. \n",
    "\n",
    "-> but 많은 데이터들은 tidy data가 아니다. 이것을 해결하기 위해 **gather**와 **spread** 을 사용하자."
   ]
  },
  {
   "cell_type": "markdown",
   "metadata": {},
   "source": [
    "#### gather \n",
    "key와 value로 데이터 형태를 바꾸어주자. \n",
    "key : variable이름 \n",
    "value : 변수에 대한 값\n",
    "\n",
    "- left_join() : single tibble을 합쳐주기 위해서 사용해야 한다. "
   ]
  },
  {
   "cell_type": "markdown",
   "metadata": {},
   "source": [
    "#### spreading\n",
    "opposite gather()<br>\n",
    "key : variable이름 value : 변수에 대한 값"
   ]
  },
  {
   "cell_type": "markdown",
   "metadata": {},
   "source": [
    "#### separate\n",
    "- rate는 cases/population<br>\n",
    "- table3%>% separate(rate,into=c(\"cases\",\"population\"),sep=\"/\")\n",
    "- table3%>%separate(year,into=c(\"century\",\"year\"),sep=2)  sep2: 앞의 2개만 뽑아내겠다는 뜻 \n"
   ]
  },
  {
   "cell_type": "markdown",
   "metadata": {},
   "source": [
    "#### unite\n",
    "- inverse of separate()\n",
    "- a%>%unite(new,century,year,sep=\"\")"
   ]
  },
  {
   "cell_type": "markdown",
   "metadata": {},
   "source": [
    "### real data\n",
    "- 실제 데이터는 매우 mess하다는 것을 알 수 있다. \n",
    "1. 먼저 variable을 찾아줘야 한다. \n",
    "2. 데이터를 자세히 보면 country, iso2,iso3,year은 정확한 변수이다.(4개의 변수를 제외하고 나머지는 어떤 변수를 의미하는지 판단 어렵)\n",
    "3. gather 이나 spread 함수를 사용하자 (tidy data가 아니다)\n",
    "ex.string함수 사용 \n",
    "ex. mutate(): 변수들의 값을 변형시키고 싶을때도 사용. who1%>%mutate(key=str_replace(key,\"newrel\",\"new_rel\"))/who1안에는 key변수 이미 존재\n"
   ]
  }
 ],
 "metadata": {
  "kernelspec": {
   "display_name": "Python 3",
   "language": "python",
   "name": "python3"
  },
  "language_info": {
   "codemirror_mode": {
    "name": "ipython",
    "version": 3
   },
   "file_extension": ".py",
   "mimetype": "text/x-python",
   "name": "python",
   "nbconvert_exporter": "python",
   "pygments_lexer": "ipython3",
   "version": "3.7.4"
  }
 },
 "nbformat": 4,
 "nbformat_minor": 2
}
